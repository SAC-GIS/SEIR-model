{
 "cells": [
  {
   "cell_type": "markdown",
   "metadata": {},
   "source": [
    "# Estimating current cases in Wuhan\n",
    "\n",
    "#### Author: Yiran Jing\n",
    "#### Date: Jan 2020\n",
    "\n",
    "Based on cases detected outside mainland China. **We use Observation on Jan 22**. Since on 2 am Jan 23, Wuhan shut down.\n",
    "\n",
    "\n",
    "## Main Conclusion:\n",
    "- There are at least **4600** 95% CI(2100, 8550) cases in Wuhan, until Jan 19. (There is time deley between suspected and confirmed)\n",
    "- Based on 29 confirmed overseas cases in Jan 26, There are at least more than **16600** cases 95% CI (11310, 23480) before Jan 23.\n",
    "- Based on 67 confirmed overseas cases in Jan 29, There are at least more than **38500** cases 95% CI (30000, 48470) before Jan 23.\n",
    "- **Commuting flows** has significant impact on `2019-nCov epidemic growth rate`\n",
    "***\n",
    "\n",
    "## Statistical Modelling:\n",
    "\n",
    "### Sensitivity analysis: \n",
    "Sensitivity analysis to estimate current cases in wuhan based on 3 scenario\n",
    "1. Baseline\n",
    "     - **8** overseas confirmed cases until 22 Jan.\n",
    "     - 10 mean time to detection\n",
    "     - 19 million airportCatchment\n",
    "2. Smaller catchment:\n",
    "     - airportCatchment = wuhan_population = 11 million\n",
    "3. Shorter detection window:\n",
    "     - 8 mean time to detection\n",
    "\n",
    "### Profile likelihood CI\n",
    "In general, the confidence interval based on the standard error strongly depends on the assumption of normality for the estimator, which is something we cannot guarantee in this case. The \"profile likelihood confidence interval\" provides an alternative.\n",
    "\n",
    "We defined a Binomial likelihood for the number of exported cases and used this function to find the MLE of the number of cases in Wuhan, using the profile likelihood approach to identify the 95% CI around the MLE. The lower and upper bounds of the 95%CI are those values by which the log-likelihood difference from the maximum log-likelihood is 1.92 (95%-percentile of the Chi-square(1) distribution).\n",
    "\n",
    "\n",
    "***\n",
    "\n",
    "\n",
    "### Reference: \n",
    "1. [Estimating the potential total number of novel Coronavirus cases in Wuhan City, China (Jan 21 2020)](https://www.imperial.ac.uk/media/imperial-college/medicine/sph/ide/gida-fellowships/2019-nCoV-outbreak-report-22-01-2020.pdf)\n",
    "2. [Confidence intervals by the profile likelihood method](http://people.upei.ca/hstryhn/stryhn208.pdf)\n",
    "3. [Binomial profile likelihood CI ](https://personal.psu.edu/abs12/stat504/Lecture/lec3_4up.pdf)"
   ]
  },
  {
   "cell_type": "code",
   "execution_count": 1,
   "metadata": {},
   "outputs": [],
   "source": [
    "import numpy as np\n",
    "from dataclasses import dataclass\n",
    "from typing import List\n",
    "from scipy.stats import nbinom, t\n",
    "import matplotlib.pyplot as plt\n",
    "from scipy import stats\n",
    "import random\n",
    "import math\n",
    "from math import lgamma\n",
    "from scipy.optimize import minimize\n",
    "import warnings\n",
    "warnings.filterwarnings('ignore')\n",
    "from help_function_model1 import * "
   ]
  },
  {
   "cell_type": "code",
   "execution_count": 2,
   "metadata": {},
   "outputs": [
    {
     "name": "stdout",
     "output_type": "stream",
     "text": [
      "2019-01-21 \n",
      "Scenario: Baseline\n",
      "Exported number of confirmed cases: 7\n",
      "Detection Window: 10\n",
      "Time from onset of symptoms to detection: 4\n",
      "Daily International passengers travelling out of Wuhan: 3301\n",
      "Effective catchment population of Wuhan Interntional Airport: 19000000\n",
      "\n",
      "Estimated number of cases in Wuhan: 4029.0820963344436\n",
      "Estimated 95% confidence interval: (1730, 7780)\n",
      "\n",
      "------------------------------------------------------------------------------------\n",
      "\n"
     ]
    },
    {
     "data": {
      "image/png": "[encoded data removed]",
      "text/plain": [
       "<Figure size 432x288 with 1 Axes>"
      ]
     },
     "metadata": {
      "needs_background": "light"
     },
     "output_type": "display_data"
    }
   ],
   "source": [
    "# Baseline\n",
    "wuhan_case_Jan21 = Estimate_wuhan_case(model_name = 'Baseline', date = '2019-01-21', \n",
    "                                      wuhan = Wuhan(population=11000000, \n",
    "                                                    airportCatchment=19000000, \n",
    "                                                    internationalTraveller=3301),\n",
    "                                      international = International(cases = 7),\n",
    "                                      coronavirus = Coronavirus(incubation=6, \n",
    "                                                                onsetTodetection=4))\n",
    "\n",
    "print(wuhan_case_Jan21)\n",
    "# Plot the distrubution of estimated Coronavirus cases in Wuhan \n",
    "wuhan_case_Jan21.plot_distribution()"
   ]
  },
  {
   "cell_type": "markdown",
   "metadata": {},
   "source": [
    "## Sensitivity Analysis"
   ]
  },
  {
   "cell_type": "code",
   "execution_count": 3,
   "metadata": {},
   "outputs": [
    {
     "name": "stdout",
     "output_type": "stream",
     "text": [
      "2019-01-21 \n",
      "Scenario: Baseline\n",
      "Exported number of confirmed cases: 7\n",
      "Detection Window: 10\n",
      "Time from onset of symptoms to detection: 4\n",
      "Daily International passengers travelling out of Wuhan: 3301\n",
      "Effective catchment population of Wuhan Interntional Airport: 19000000\n",
      "\n",
      "Estimated number of cases in Wuhan: 4029.0820963344436\n",
      "Estimated 95% confidence interval: (1730, 7780)\n",
      "\n",
      "------------------------------------------------------------------------------------\n",
      "\n",
      "2019-01-21 \n",
      "Scenario: Smaller catchment\n",
      "Exported number of confirmed cases: 7\n",
      "Detection Window: 10\n",
      "Time from onset of symptoms to detection: 4\n",
      "Daily International passengers travelling out of Wuhan: 3301\n",
      "Effective catchment population of Wuhan Interntional Airport: 11000000\n",
      "\n",
      "Estimated number of cases in Wuhan: 2332.6264768252045\n",
      "Estimated 95% confidence interval: (1000, 4490)\n",
      "\n",
      "------------------------------------------------------------------------------------\n",
      "\n",
      "2019-01-21 \n",
      "Scenario: Shorter detection window\n",
      "Exported number of confirmed cases: 7\n",
      "Detection Window: 8\n",
      "Time from onset of symptoms to detection: 2\n",
      "Daily International passengers travelling out of Wuhan: 3301\n",
      "Effective catchment population of Wuhan Interntional Airport: 19000000\n",
      "\n",
      "Estimated number of cases in Wuhan: 5036.352620418054\n",
      "Estimated 95% confidence interval: (2160, 9720)\n",
      "\n",
      "------------------------------------------------------------------------------------\n",
      "\n"
     ]
    }
   ],
   "source": [
    "# 2019-01-21: same result as papers \n",
    "sensitivity_analysis(date='2019-01-21', wuhan_population=11000000,\n",
    "                     airportCatchment=19000000,international_case=7, \n",
    "                     onsetTodetection=4)"
   ]
  },
  {
   "cell_type": "code",
   "execution_count": 4,
   "metadata": {},
   "outputs": [
    {
     "name": "stdout",
     "output_type": "stream",
     "text": [
      "2019-01-22 \n",
      "Scenario: Baseline\n",
      "Exported number of confirmed cases: 8\n",
      "Detection Window: 10\n",
      "Time from onset of symptoms to detection: 4\n",
      "Daily International passengers travelling out of Wuhan: 3301\n",
      "Effective catchment population of Wuhan Interntional Airport: 19000000\n",
      "\n",
      "Estimated number of cases in Wuhan: 4604.6652529536495\n",
      "Estimated 95% confidence interval: (2100, 8550)\n",
      "\n",
      "------------------------------------------------------------------------------------\n",
      "\n",
      "2019-01-22 \n",
      "Scenario: Smaller catchment\n",
      "Exported number of confirmed cases: 8\n",
      "Detection Window: 10\n",
      "Time from onset of symptoms to detection: 4\n",
      "Daily International passengers travelling out of Wuhan: 3301\n",
      "Effective catchment population of Wuhan Interntional Airport: 11000000\n",
      "\n",
      "Estimated number of cases in Wuhan: 2665.8588306573765\n",
      "Estimated 95% confidence interval: (1220, 4940)\n",
      "\n",
      "------------------------------------------------------------------------------------\n",
      "\n",
      "2019-01-22 \n",
      "Scenario: Shorter detection window\n",
      "Exported number of confirmed cases: 8\n",
      "Detection Window: 8\n",
      "Time from onset of symptoms to detection: 2\n",
      "Daily International passengers travelling out of Wuhan: 3301\n",
      "Effective catchment population of Wuhan Interntional Airport: 19000000\n",
      "\n",
      "Estimated number of cases in Wuhan: 5755.831566192062\n",
      "Estimated 95% confidence interval: (2630, 10700)\n",
      "\n",
      "------------------------------------------------------------------------------------\n",
      "\n"
     ]
    }
   ],
   "source": [
    "# 8 exported cases until Jan 22 \n",
    "# 29 exported cases until Jan 26 \n",
    "sensitivity_analysis(date='2019-01-22', wuhan_population=11000000,\n",
    "                        airportCatchment=19000000,international_case=8, onsetTodetection=4)"
   ]
  },
  {
   "cell_type": "code",
   "execution_count": 5,
   "metadata": {},
   "outputs": [
    {
     "name": "stdout",
     "output_type": "stream",
     "text": [
      "2019-01-29 \n",
      "Scenario: Baseline\n",
      "Exported number of confirmed cases: 67\n",
      "Detection Window: 10\n",
      "Time from onset of symptoms to detection: 4\n",
      "Daily International passengers travelling out of Wuhan: 3301\n",
      "Effective catchment population of Wuhan Interntional Airport: 19000000\n",
      "\n",
      "Estimated number of cases in Wuhan: 38564.071493486816\n",
      "Estimated 95% confidence interval: (30000, 48470)\n",
      "\n",
      "------------------------------------------------------------------------------------\n",
      "\n",
      "2019-01-29 \n",
      "Scenario: Smaller catchment\n",
      "Exported number of confirmed cases: 67\n",
      "Detection Window: 10\n",
      "Time from onset of symptoms to detection: 4\n",
      "Daily International passengers travelling out of Wuhan: 3301\n",
      "Effective catchment population of Wuhan Interntional Airport: 11000000\n",
      "\n",
      "Estimated number of cases in Wuhan: 22326.56770675553\n",
      "Estimated 95% confidence interval: (17340, 28030)\n",
      "\n",
      "------------------------------------------------------------------------------------\n",
      "\n",
      "2019-01-29 \n",
      "Scenario: Shorter detection window\n",
      "Exported number of confirmed cases: 67\n",
      "Detection Window: 8\n",
      "Time from onset of symptoms to detection: 2\n",
      "Daily International passengers travelling out of Wuhan: 3301\n",
      "Effective catchment population of Wuhan Interntional Airport: 19000000\n",
      "\n",
      "Estimated number of cases in Wuhan: 48205.08936685853\n",
      "Estimated 95% confidence interval: (37510, 60600)\n",
      "\n",
      "------------------------------------------------------------------------------------\n",
      "\n"
     ]
    }
   ],
   "source": [
    "# 2019-01-29: 67 confirmed cases overseas\n",
    "sensitivity_analysis(date='2019-01-29', wuhan_population=11000000,\n",
    "                     airportCatchment=19000000,international_case=67, \n",
    "                     onsetTodetection=4)"
   ]
  },
  {
   "cell_type": "code",
   "execution_count": null,
   "metadata": {},
   "outputs": [],
   "source": []
  }
 ],
 "metadata": {
  "kernelspec": {
   "display_name": "Python 3",
   "language": "python",
   "name": "python3"
  },
  "language_info": {
   "codemirror_mode": {
    "name": "ipython",
    "version": 3
   },
   "file_extension": ".py",
   "mimetype": "text/x-python",
   "name": "python",
   "nbconvert_exporter": "python",
   "pygments_lexer": "ipython3",
   "version": "3.7.3"
  }
 },
 "nbformat": 4,
 "nbformat_minor": 2
}
